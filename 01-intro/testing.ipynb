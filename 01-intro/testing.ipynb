{
 "cells": [
  {
   "cell_type": "code",
   "execution_count": 1,
   "id": "8ef281ec-964a-4890-8670-cb7e0f292388",
   "metadata": {},
   "outputs": [
    {
     "name": "stdout",
     "output_type": "stream",
     "text": [
      "hello-world\n"
     ]
    }
   ],
   "source": [
    "print('hello-world')"
   ]
  },
  {
   "cell_type": "code",
   "execution_count": 2,
   "id": "9c89944f-1db4-4062-8e1e-9a7a69a2f2cf",
   "metadata": {},
   "outputs": [],
   "source": [
    "import openai"
   ]
  },
  {
   "cell_type": "code",
   "execution_count": 3,
   "id": "54ec55a6-f361-413d-bbb1-7a499fb7f34c",
   "metadata": {},
   "outputs": [],
   "source": [
    "from openai import OpenAI"
   ]
  },
  {
   "cell_type": "code",
   "execution_count": 4,
   "id": "872d7b4a-17c4-4501-90b9-4e9a2f4fdba9",
   "metadata": {},
   "outputs": [],
   "source": [
    "client = OpenAI()"
   ]
  },
  {
   "cell_type": "code",
   "execution_count": 10,
   "id": "8053bcd9-aba8-49be-b718-b16289de9117",
   "metadata": {},
   "outputs": [],
   "source": [
    "import os"
   ]
  },
  {
   "cell_type": "code",
   "execution_count": 5,
   "id": "43490a97-0837-4b6e-826b-25b0ba58ddf4",
   "metadata": {},
   "outputs": [],
   "source": [
    "response = client.chat.completions.create(\n",
    "    model='gpt-4o',\n",
    "    messages=[\n",
    "        {\"role\": \"user\", \"content\": \"is it too late to join the course?\"}\n",
    "    ]\n",
    ")"
   ]
  },
  {
   "cell_type": "code",
   "execution_count": 6,
   "id": "4ab024b0-86ef-4555-b9a6-f8480e92f1a6",
   "metadata": {},
   "outputs": [
    {
     "data": {
      "text/plain": [
       "\"Whether it's too late to join a course depends on several factors, such as the start date of the course, the enrollment deadline, and the policies of the institution offering it. Here are a few steps you can take to determine if you can still join:\\n\\n1. **Check Enrollment Deadlines:** Look up the specific course's enrollment deadlines on the institution's website or course listing.\\n\\n2. **Contact the Institution:** Reach out to the admissions office or the course instructor to inquire about whether late enrollment is possible.\\n\\n3. **Consider the Course Structure:** Some courses may allow late entry with little consequence, while others, especially those that are intensive or cumulative, might recommend starting with everyone else.\\n\\n4. **Look for Open Enrollment or Rolling Admissions:** Some online platforms or institutions offer courses with flexible start dates.\\n\\n5. **Assess Your Own Schedule:** Consider if you can catch up with any missed materials or classes.\\n\\nIf you're unsure, contacting the institution directly is often the best course of action.\""
      ]
     },
     "execution_count": 6,
     "metadata": {},
     "output_type": "execute_result"
    }
   ],
   "source": [
    "response.choices[0].message.content"
   ]
  },
  {
   "cell_type": "code",
   "execution_count": null,
   "id": "e07a82d7-3e26-403f-a9de-96e5cc484f83",
   "metadata": {},
   "outputs": [],
   "source": []
  }
 ],
 "metadata": {
  "kernelspec": {
   "display_name": "Python 3 (ipykernel)",
   "language": "python",
   "name": "python3"
  },
  "language_info": {
   "codemirror_mode": {
    "name": "ipython",
    "version": 3
   },
   "file_extension": ".py",
   "mimetype": "text/x-python",
   "name": "python",
   "nbconvert_exporter": "python",
   "pygments_lexer": "ipython3",
   "version": "3.12.1"
  }
 },
 "nbformat": 4,
 "nbformat_minor": 5
}
